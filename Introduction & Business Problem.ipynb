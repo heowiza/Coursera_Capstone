{
 "cells": [
  {
   "cell_type": "markdown",
   "metadata": {},
   "source": [
    "## Introduction"
   ]
  },
  {
   "cell_type": "markdown",
   "metadata": {},
   "source": [
    "### My report is for those who are planning to start a new hotel in the city of Barcelona. I will provide a suggestion on what would be the best venue to start a new hotel in a highly visited city with already many good hotels.\n",
    "\n",
    "### Barcelona, my hometown, is one of the most popular tourist destinations in the world. Currently ranked in the Top 10 of most visited cities worldwide and Top 3 in Europe. Barcelona is definitely one of the best places to start up a new hotel business.\n",
    "\n",
    "### In 2018, Barcelona received over 15,8 million visitors, especially in the summer and Christmas time, tourist areas in Barcelona provide huge opportunities for hotels. Even the most expensive hotels, like W Hotel, have 113% of their occupancy rated year in year out, given this scenario, we will go through the benefits and pitfalls of opening a new Hotel in a highly visited city with already many hotels offering their services. \n",
    "\n",
    "### The core of Barcelona is made of 10 districts but, I will later concentrate on only 3 districts, where the busiest venues of Barcelona can be found to target the tourists visiting the city. With that in mind, I will be able to find the Top 3 districts to open a brand new hotel in the city.\n",
    "\n",
    " "
   ]
  },
  {
   "cell_type": "markdown",
   "metadata": {},
   "source": [
    "## Business Problem"
   ]
  },
  {
   "cell_type": "markdown",
   "metadata": {},
   "source": [
    "### In my report, I focus on the issue of where to open a new hotel in a city like Barcelona, once one has decided to go ahead. Let’s imagine the Dutch investment company Momentum willing to open a new luxury hotel, a first and foremost important decision will be the location for its new hotel. \n",
    "\n",
    "### - On what basis can Momentum decide its new hotel's location?  \n",
    "### - While selecting the place there are key points to consider like they need to check out like where the most well-visited venues of the city are? \n",
    "### - If incase there are already other luxury hotels which have good ratings, will it be risky to open new one near these hotels? "
   ]
  },
  {
   "cell_type": "code",
   "execution_count": null,
   "metadata": {},
   "outputs": [],
   "source": []
  }
 ],
 "metadata": {
  "kernelspec": {
   "display_name": "Python 3",
   "language": "python",
   "name": "python3"
  },
  "language_info": {
   "codemirror_mode": {
    "name": "ipython",
    "version": 3
   },
   "file_extension": ".py",
   "mimetype": "text/x-python",
   "name": "python",
   "nbconvert_exporter": "python",
   "pygments_lexer": "ipython3",
   "version": "3.6.7"
  }
 },
 "nbformat": 4,
 "nbformat_minor": 4
}
